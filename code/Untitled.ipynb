{
 "cells": [
  {
   "cell_type": "code",
   "execution_count": 8,
   "metadata": {},
   "outputs": [],
   "source": [
    "from pysqlcipher3 import dbapi2 as sqlite\n",
    "conn = sqlite.connect('test.db')\n",
    "c = conn.cursor()\n",
    "c.execute(\"PRAGMA key='password'\")\n",
    "c.execute(\"PRAGMA cipher_compatibility = 3\")\n",
    "c.execute('''create table stocks (date text, trans text, symbol text, qty real, price real)''')\n",
    "c.execute(\"\"\"insert into stocks values ('2006-01-05','BUY','RHAT',100,35.14)\"\"\")\n",
    "conn.commit()\n",
    "c.close()\n"
   ]
  },
  {
   "cell_type": "code",
   "execution_count": null,
   "metadata": {},
   "outputs": [],
   "source": [
    "https://github.com/rigglemania/pysqlcipher3"
   ]
  },
  {
   "cell_type": "code",
   "execution_count": null,
   "metadata": {},
   "outputs": [],
   "source": []
  }
 ],
 "metadata": {
  "kernelspec": {
   "display_name": "Python 3",
   "language": "python",
   "name": "python3"
  },
  "language_info": {
   "codemirror_mode": {
    "name": "ipython",
    "version": 3
   },
   "file_extension": ".py",
   "mimetype": "text/x-python",
   "name": "python",
   "nbconvert_exporter": "python",
   "pygments_lexer": "ipython3",
   "version": "3.8.7"
  }
 },
 "nbformat": 4,
 "nbformat_minor": 5
}
